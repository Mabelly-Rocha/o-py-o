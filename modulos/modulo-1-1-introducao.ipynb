{
  "cells": [
    {
      "cell_type": "markdown",
      "metadata": {
        "id": "8I-1cGYolyQJ"
      },
      "source": [
        "<img src=\"https://github.com/Mabelly-Rocha/o-py-o/blob/master/imagens/1.png?raw=1\">\n",
        "\n",
        "## Revisando o conteúdo da semana!"
      ]
    },
    {
      "cell_type": "markdown",
      "metadata": {
        "id": "xeQautbxlyQO"
      },
      "source": [
        "1) Em uma instrução `print()`, o que acontece se você omitir um dos parênteses ou ambos?"
      ]
    },
    {
      "cell_type": "code",
      "execution_count": null,
      "metadata": {
        "id": "XW2gK6KulyQQ"
      },
      "outputs": [],
      "source": []
    },
    {
      "cell_type": "markdown",
      "metadata": {
        "id": "1hj4gbT3lyQR"
      },
      "source": [
        "2) O que acontece se puser um sinal de mais antes de um número? E se escrever assim: `2++2`?"
      ]
    },
    {
      "cell_type": "code",
      "execution_count": null,
      "metadata": {
        "id": "1uP2FBRmlyQS"
      },
      "outputs": [],
      "source": []
    },
    {
      "cell_type": "markdown",
      "metadata": {
        "id": "T3-ivLL_lyQS"
      },
      "source": [
        "3) O que acontece se você tentar usar 02 isso no Python?"
      ]
    },
    {
      "cell_type": "code",
      "execution_count": null,
      "metadata": {
        "id": "cbIQNfTflyQT"
      },
      "outputs": [],
      "source": []
    },
    {
      "cell_type": "markdown",
      "metadata": {
        "id": "gFP5wUMvlyQU"
      },
      "source": [
        "4) Quantos segundos há em 42 minutos e 42 segundos?"
      ]
    },
    {
      "cell_type": "code",
      "execution_count": null,
      "metadata": {
        "id": "63s920ZBlyQV"
      },
      "outputs": [],
      "source": []
    },
    {
      "cell_type": "markdown",
      "metadata": {
        "id": "GfAyQPkVlyQV"
      },
      "source": [
        "5) Vimos que `n = 42` é funciona. E `42 = n`?"
      ]
    },
    {
      "cell_type": "code",
      "execution_count": null,
      "metadata": {
        "id": "mrywqHlRlyQW"
      },
      "outputs": [],
      "source": []
    },
    {
      "cell_type": "markdown",
      "metadata": {
        "id": "SKR1DNpPlyQW"
      },
      "source": [
        "6) Qual é o resultado da expressão `x = y = 1`? Você consegue explicar o que aconteceu aqui?"
      ]
    },
    {
      "cell_type": "code",
      "execution_count": null,
      "metadata": {
        "id": "yOMgNPdQlyQW"
      },
      "outputs": [],
      "source": []
    },
    {
      "cell_type": "markdown",
      "metadata": {
        "id": "8D9EGcAQlyQX"
      },
      "source": [
        "7) O que acontece se você puser um ponto e vírgula no fim de uma instrução no Python? E um ponto?"
      ]
    },
    {
      "cell_type": "code",
      "execution_count": null,
      "metadata": {
        "id": "XmXaKStylyQX"
      },
      "outputs": [],
      "source": []
    },
    {
      "cell_type": "markdown",
      "metadata": {
        "id": "HnCbJIPIlyQX"
      },
      "source": [
        "8) Em notação matemática é possível multiplicar x e y desta forma: xy. O que acontece se você tentar fazer o mesmo no Python?\n",
        "\n",
        "```python\n",
        "x = 2\n",
        "y = 8\n",
        "\n",
        "xy\n",
        "```"
      ]
    },
    {
      "cell_type": "code",
      "execution_count": null,
      "metadata": {
        "id": "dB2PG1SclyQY"
      },
      "outputs": [],
      "source": []
    },
    {
      "cell_type": "markdown",
      "metadata": {
        "id": "QWK3t1u0lyQY"
      },
      "source": [
        "9) O que significa a saída do código abaixo?\n",
        "\n",
        "```python\n",
        "nome = 'Grupo de estudos Ó Py Ó'\n",
        "type(nome)\n",
        "```"
      ]
    },
    {
      "cell_type": "code",
      "execution_count": null,
      "metadata": {
        "id": "y6ndUL1JlyQY"
      },
      "outputs": [],
      "source": []
    },
    {
      "cell_type": "markdown",
      "metadata": {
        "id": "-2WtBAvKlyQY"
      },
      "source": [
        "10) Repdoruza um erro de sintaxe"
      ]
    },
    {
      "cell_type": "code",
      "execution_count": null,
      "metadata": {
        "id": "9dxoi0VZlyQZ"
      },
      "outputs": [],
      "source": []
    },
    {
      "cell_type": "markdown",
      "metadata": {
        "id": "nmPOwchFlyQZ"
      },
      "source": [
        "11) Reproduza um erro de identação"
      ]
    },
    {
      "cell_type": "code",
      "execution_count": null,
      "metadata": {
        "id": "7jn_l5K1lyQZ"
      },
      "outputs": [],
      "source": []
    },
    {
      "cell_type": "markdown",
      "metadata": {
        "id": "sbc-wz5TlyQa"
      },
      "source": [
        "---"
      ]
    },
    {
      "cell_type": "markdown",
      "metadata": {
        "id": "6K9BB02rlyQa"
      },
      "source": [
        "## Quais são as outras formas de praticar esses conceitos?\n",
        "\n",
        "<img src=\"https://media.giphy.com/media/2wS8Hh619rZvvf95op/giphy.gif\" align=\"left\">"
      ]
    },
    {
      "cell_type": "markdown",
      "metadata": {
        "id": "seT4Lll7lyQa"
      },
      "source": [
        "<Adicionar atividade de sua preferência para aplicação dos conceitos>"
      ]
    }
  ],
  "metadata": {
    "kernelspec": {
      "display_name": "Python 3",
      "language": "python",
      "name": "python3"
    },
    "language_info": {
      "codemirror_mode": {
        "name": "ipython",
        "version": 3
      },
      "file_extension": ".py",
      "mimetype": "text/x-python",
      "name": "python",
      "nbconvert_exporter": "python",
      "pygments_lexer": "ipython3",
      "version": "3.8.5"
    },
    "colab": {
      "provenance": []
    }
  },
  "nbformat": 4,
  "nbformat_minor": 0
}