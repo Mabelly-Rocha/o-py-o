{
  "cells": [
    {
      "cell_type": "markdown",
      "metadata": {
        "id": "00Xf2uMWO9gr"
      },
      "source": [
        "<img src=\"https://github.com/Mabelly-Rocha/o-py-o/blob/master/imagens/2.png?raw=1\">\n",
        "\n",
        "## Revisando o conteúdo da semana!"
      ]
    },
    {
      "cell_type": "markdown",
      "metadata": {
        "id": "1ym6vVitO9gx"
      },
      "source": [
        "Um objeto de função é um valor que pode ser atribuído a uma variável ou passado como argumento. Por exemplo, `print_contact` é uma função que recebe como parâmetro dois objetos de funções chamados `fRegister` e `fTimeRegister`.\n",
        "As funções `fRegister` e `fTimeRegister` foram feitas para imprimir os dados de um contato e imprimir a data na qual aquele contato foi cadastrado, da uma olhadinha na definição delas:"
      ]
    },
    {
      "cell_type": "code",
      "execution_count": 24,
      "metadata": {
        "id": "RYt-b36XO9g0"
      },
      "outputs": [],
      "source": [
        "def print_register():\n",
        "    print('***** Dados do contato: *****')\n",
        "    print('Nome: ', name)\n",
        "    print('Email: ', email)\n",
        "    print('Endereço: ', adress)\n",
        "    print('Ano de nascimento: ', birthYear)"
      ]
    },
    {
      "cell_type": "code",
      "source": [
        "def print_update():\n",
        "    print('Atualizado em: ', updated)"
      ],
      "metadata": {
        "id": "dyoF2rBrPSCD"
      },
      "execution_count": 26,
      "outputs": []
    },
    {
      "cell_type": "code",
      "execution_count": 27,
      "metadata": {
        "id": "o9ce175QO9g1"
      },
      "outputs": [],
      "source": [
        "def print_update(fRegister, ftimeRegister):\n",
        "    fRegister()\n",
        "    ftimeRegister()"
      ]
    },
    {
      "cell_type": "markdown",
      "metadata": {
        "id": "OGE4voEBO9g1"
      },
      "source": [
        "1) O que acontece se você tentar executar diretamente `print_contact()`? "
      ]
    },
    {
      "cell_type": "code",
      "execution_count": 1,
      "metadata": {
        "id": "Cfk2RqFQO9g1",
        "outputId": "c23a4fcd-7d9d-4d7f-91fe-ba142d8b2d9d",
        "colab": {
          "base_uri": "https://localhost:8080/",
          "height": 165
        }
      },
      "outputs": [
        {
          "output_type": "error",
          "ename": "NameError",
          "evalue": "ignored",
          "traceback": [
            "\u001b[0;31m---------------------------------------------------------------------------\u001b[0m",
            "\u001b[0;31mNameError\u001b[0m                                 Traceback (most recent call last)",
            "\u001b[0;32m<ipython-input-1-3a274d09317d>\u001b[0m in \u001b[0;36m<module>\u001b[0;34m\u001b[0m\n\u001b[0;32m----> 1\u001b[0;31m \u001b[0mprint_contact\u001b[0m\u001b[0;34m(\u001b[0m\u001b[0;34m)\u001b[0m\u001b[0;34m\u001b[0m\u001b[0;34m\u001b[0m\u001b[0m\n\u001b[0m",
            "\u001b[0;31mNameError\u001b[0m: name 'print_contact' is not defined"
          ]
        }
      ],
      "source": [
        "print_contact()"
      ]
    },
    {
      "cell_type": "markdown",
      "metadata": {
        "id": "-7btBlR2O9g2"
      },
      "source": [
        "2) O que você precisa fazer para `print_contact` funcione corretamente?\n",
        "\n",
        "> ##### Dica: preste atenção nas mensagens de erro, elas são ótimas guias!"
      ]
    },
    {
      "cell_type": "code",
      "source": [
        "def print_register_v2(name, email, adress, birthYear):\n",
        "    print('***** Dados do contato: *****')\n",
        "    print('Nome: ', name)\n",
        "    print('Email: ', email)\n",
        "    print('Endereço: ', adress)\n",
        "    print('Ano de nascimento: ', birthYear)\n"
      ],
      "metadata": {
        "id": "GvoeinT-SxyY"
      },
      "execution_count": 33,
      "outputs": []
    },
    {
      "cell_type": "code",
      "source": [
        "print_register_v2('Iza', 'iza@gmail.com', 'Silveira Martins, Cabula, Salvador', '2000' )"
      ],
      "metadata": {
        "id": "Qy09RW2hTcqz",
        "outputId": "2a9617b4-401e-427c-9199-21001f466436",
        "colab": {
          "base_uri": "https://localhost:8080/"
        }
      },
      "execution_count": 34,
      "outputs": [
        {
          "output_type": "stream",
          "name": "stdout",
          "text": [
            "***** Dados do contato: *****\n",
            "Nome:  Iza\n",
            "Email:  iza@gmail.com\n",
            "Endereço:  Silveira Martins, Cabula, Salvador\n",
            "Ano de nascimento:  2000\n"
          ]
        }
      ]
    },
    {
      "cell_type": "markdown",
      "metadata": {
        "id": "WXEt39sEO9g3"
      },
      "source": [
        "3) Faça as mudanças necessárias para imprimir a **\"Data de aniversário\"** ao invés do **\"Ano de Nascimento\"**."
      ]
    },
    {
      "cell_type": "code",
      "source": [
        "def print_register_v3(name, email, adress, birthYear):\n",
        "    print('***** Dados do contato: *****')\n",
        "    print('Nome: ', name)\n",
        "    print('Email: ', email)\n",
        "    print('Endereço: ', adress)\n",
        "    print('Data de nascimento: ', birthDay)"
      ],
      "metadata": {
        "id": "9AOY77TmWEGG"
      },
      "execution_count": 45,
      "outputs": []
    },
    {
      "cell_type": "code",
      "source": [
        "print_register_v2('Iza', 'iza@gmail.com', 'Silveira Martins, Cabula, Salvador', '15-11-81' )"
      ],
      "metadata": {
        "id": "gW2t1AWsWLTR",
        "outputId": "c780e2f6-1779-4b2a-d593-b2db73302896",
        "colab": {
          "base_uri": "https://localhost:8080/"
        }
      },
      "execution_count": 46,
      "outputs": [
        {
          "output_type": "stream",
          "name": "stdout",
          "text": [
            "***** Dados do contato: *****\n",
            "Nome:  Iza\n",
            "Email:  iza@gmail.com\n",
            "Endereço:  Silveira Martins, Cabula, Salvador\n",
            "Ano de nascimento:  15-11-81\n"
          ]
        }
      ]
    },
    {
      "cell_type": "markdown",
      "metadata": {
        "id": "snZojnceO9g3"
      },
      "source": [
        "Você conhece a função `input()`? Execute o código abaixo pra saber como ela funciona:\n",
        "\n",
        "> ##### Dica: depois de digitar o valor desejado tecle enter"
      ]
    },
    {
      "cell_type": "code",
      "execution_count": null,
      "metadata": {
        "id": "_GmhsiESO9g4"
      },
      "outputs": [],
      "source": [
        "num1 = input('Entre com o 1º valor: ')\n",
        "\n",
        "num2 = input('Entre com o 2º valor: ')\n",
        "\n",
        "soma = int(num1) + int(num2)\n",
        "\n",
        "print(\"A soma é\", soma)"
      ]
    },
    {
      "cell_type": "markdown",
      "metadata": {
        "id": "ulMHNaLJO9g4"
      },
      "source": [
        "> ##### Saiba mais sobre `input()` no tutorial [Função input e print no Python: Entrada e Saída de dados](https://pythonacademy.com.br/blog/input-e-print-entrada-e-saida-de-dados-no-python)"
      ]
    },
    {
      "cell_type": "markdown",
      "metadata": {
        "id": "vAsMFotnO9g5"
      },
      "source": [
        "4) Agora que você ja sabe como `input()` funciona, faça uma função que solicite 4 notas e mostre a média."
      ]
    },
    {
      "cell_type": "code",
      "execution_count": 10,
      "metadata": {
        "id": "Zp5UvaH4O9g5",
        "outputId": "941c1327-753d-4d88-f09d-e6a20e42b2d1",
        "colab": {
          "base_uri": "https://localhost:8080/"
        }
      },
      "outputs": [
        {
          "output_type": "stream",
          "name": "stdout",
          "text": [
            "Entre com o 1º valor: 4\n",
            "Entre com o 2º valor: 5\n",
            "Entre com o 3º valor: 6\n",
            "Entre com o 4º valor: 7\n",
            "A media é  5.5\n"
          ]
        }
      ],
      "source": [
        "def calcula_media():\n",
        "  num1 = input('Entre com o 1º valor: ')\n",
        "  num2 = input('Entre com o 2º valor: ')\n",
        "  num3 = input('Entre com o 3º valor: ')\n",
        "  num4 = input('Entre com o 4º valor: ')\n",
        "\n",
        "  media = (float(num1) + float(num2) + float(num3) + float(num4))/4\n",
        "  return media\n",
        "\n",
        "print(\"A media é  \" + str(calcula_media()))\n",
        "\n"
      ]
    },
    {
      "cell_type": "markdown",
      "metadata": {
        "id": "FZUhcFPRO9g5"
      },
      "source": [
        "---\n",
        "\n",
        "## Quais são as outras formas de praticar esses conceitos?\n",
        "\n",
        "<img src=\"https://media1.tenor.com/images/325243df1673b884f9a044797c1cfd00/tenor.gif\" align=\"left\">"
      ]
    },
    {
      "cell_type": "markdown",
      "metadata": {
        "id": "p3s2QvtlO9g6"
      },
      "source": [
        "<Adicionar atividade de sua preferência para aplicação dos conceitos>"
      ]
    }
  ],
  "metadata": {
    "kernelspec": {
      "display_name": "Python 3",
      "language": "python",
      "name": "python3"
    },
    "language_info": {
      "codemirror_mode": {
        "name": "ipython",
        "version": 3
      },
      "file_extension": ".py",
      "mimetype": "text/x-python",
      "name": "python",
      "nbconvert_exporter": "python",
      "pygments_lexer": "ipython3",
      "version": "3.8.5"
    },
    "colab": {
      "provenance": []
    }
  },
  "nbformat": 4,
  "nbformat_minor": 0
}