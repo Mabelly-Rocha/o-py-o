{
  "cells": [
    {
      "cell_type": "markdown",
      "metadata": {
        "id": "y41jsu9MZCW4"
      },
      "source": [
        "<img src=\"https://github.com/Mabelly-Rocha/o-py-o/blob/master/imagens/3.png?raw=1\">\n",
        "\n",
        "## Revisando o conteúdo da semana!"
      ]
    },
    {
      "cell_type": "markdown",
      "metadata": {
        "id": "OP-SMyT6ZCW7"
      },
      "source": [
        "1) Faça um algoritmo que solicite a entrada de um número e exiba o dia da semana correspondente (1-Domingo, 2- Segunda,...,7-Sábado), se receber um outro valor a mensagem \"Valor inválido\" deverá ser exibida."
      ]
    },
    {
      "cell_type": "code",
      "execution_count": 2,
      "metadata": {
        "id": "TzYPZJzHZCW8",
        "outputId": "4e2615c3-7665-4490-a60d-cb2163bcd6cc",
        "colab": {
          "base_uri": "https://localhost:8080/"
        }
      },
      "outputs": [
        {
          "output_type": "stream",
          "name": "stdout",
          "text": [
            "Entre com o valor do dia da semana: 4\n",
            "O dia da semana é: Quarta\n"
          ]
        }
      ],
      "source": [
        "dia = int(input('Entre com o valor do dia da semana: '))\n",
        "\n",
        "if dia == 1:\n",
        "  print('O dia da semana é: Domingo')\n",
        "elif dia == 2:\n",
        "  print('O dia da semana é: Segunda')\n",
        "elif dia == 3:\n",
        "  print('O dia da semana é: Terça')\n",
        "elif dia == 4:\n",
        "  print('O dia da semana é: Quarta')\n",
        "elif dia == 5:\n",
        "  print('O dia da semana é: Quinta')\n",
        "elif dia == 6:\n",
        "  print('O dia da semana é: Sexta')\n",
        "elif dia == 7:\n",
        "  print('O dia da semana é: Sábado')\n",
        "else:\n",
        "  print('Valor inválido')"
      ]
    },
    {
      "cell_type": "markdown",
      "metadata": {
        "id": "W4fJoTzLZCW9"
      },
      "source": [
        "2) Faça um algoritmo que pergunte a usuária em que ano ela nasceu e, caso ela seja maior de idade, imprima em que ano ela fez 18 anos. Caso ela seja menor de idade, imprima em qual ano ela completará 18 anos. \n",
        "\n",
        "Pra deixar a saída mais fácil de entender utilize mensagens como: **\"Você fez 18 anos em: \"**, **\"Você completará 18 anos em: \"**."
      ]
    },
    {
      "cell_type": "code",
      "execution_count": 17,
      "metadata": {
        "id": "lwCJGBBHZCW-",
        "outputId": "86324e01-e059-426e-fa3b-aea851ed8fa3",
        "colab": {
          "base_uri": "https://localhost:8080/"
        }
      },
      "outputs": [
        {
          "output_type": "stream",
          "name": "stdout",
          "text": [
            "Em qual ano você nasceu? 2010\n",
            "Você fez 18 anos em:  \n"
          ]
        }
      ],
      "source": [
        "anoNascimento = int(input('Em qual ano você nasceu? '))\n",
        "anoAtual = 2022\n",
        "idade = anoAtual - anoNascimento\n",
        "\n",
        "if idade <= 2004:\n",
        "  print(\"Você fez 18 anos em:  \")\n",
        "else:\n",
        "  print( \"Você completará 18 anos em:  \")"
      ]
    },
    {
      "cell_type": "markdown",
      "metadata": {
        "id": "AEviGnuqZCW-"
      },
      "source": [
        "3) Faça um algoritmo que solicite as 3 notas da usuária, calcule a média e indique se a aluna foi aprovada ou reprovada (nota precisar ser **maior ou igual** à 7 para a aluna ser aprovada)."
      ]
    },
    {
      "cell_type": "code",
      "execution_count": 25,
      "metadata": {
        "id": "VuB2KeqKZCW-",
        "outputId": "077e41d2-a9c5-4aff-8534-7f78be155276",
        "colab": {
          "base_uri": "https://localhost:8080/"
        }
      },
      "outputs": [
        {
          "output_type": "stream",
          "name": "stdout",
          "text": [
            "Informe a 1ª nota: 8\n",
            "Informe a 2ª nota: 8\n",
            "Informe a 3ª nota: 10\n",
            "Você foi aprovada\n"
          ]
        }
      ],
      "source": [
        "primeira_nota = int(input('Informe a 1ª nota: '))\n",
        "segunda_nota = int(input('Informe a 2ª nota: '))\n",
        "terceira_nota = int(input('Informe a 3ª nota: '))\n",
        "\n",
        "media = (float(primeira_nota) + float(segunda_nota) + float(terceira_nota)) / 3\n",
        "\n",
        "if media < 7:\n",
        "  print('Você foi reprovada')\n",
        "elif media >= 7:\n",
        "  print('Você foi aprovada')\n",
        "\n"
      ]
    },
    {
      "cell_type": "markdown",
      "metadata": {
        "id": "BihSxt-2ZCW_"
      },
      "source": [
        "4) Faça um algoritmo que pergunte a idade da usuária e depois disso exiba a classificação etária de acordo com as faixas de valores:\n",
        "    \n",
        "- Criança para 0 até 11 anos;\n",
        "- Adolescente para 12 até 18 anos;\n",
        "- Jovem para 19 até 24 anos;\n",
        "- Adulto para 25 até 40 anos;\n",
        "- Meia Idade para 41 até 60 anos;\n",
        "- Idoso acima de 60 anos."
      ]
    },
    {
      "cell_type": "code",
      "execution_count": 23,
      "metadata": {
        "id": "G-titGG7ZCW_",
        "outputId": "a5e1349b-0d48-40cf-a622-4013270a38fd",
        "colab": {
          "base_uri": "https://localhost:8080/"
        }
      },
      "outputs": [
        {
          "output_type": "stream",
          "name": "stdout",
          "text": [
            "Qual a sua idade?19\n",
            "Jovem para 19 até 24 anos;\n"
          ]
        }
      ],
      "source": [
        "idade_usuaria = int(input('Qual a sua idade?'))\n",
        "\n",
        "if idade_usuaria <= 11:\n",
        "  print('Criança para 0 até 11 anos;')\n",
        "elif idade_usuaria <= 18:\n",
        "  print('Adolescente para 12 até 18 anos')\n",
        "elif idade_usuaria <= 24:\n",
        "  print('Jovem para 19 até 24 anos;')\n",
        "elif idade_usuaria <= 40:\n",
        "  print('Adulto para 25 até 40 anos;')\n",
        "elif idade_usuaria <= 60:\n",
        "  print('Meia Idade para 41 até 60 anos;')\n",
        "else:\n",
        "  print('Idoso acima de 60 anos.')\n"
      ]
    },
    {
      "cell_type": "markdown",
      "metadata": {
        "id": "rF6o30DLZCXA"
      },
      "source": [
        "> ##### Você sabe como Python diferencia \"PyLadies\" de \"Pyladies\"? Dá só uma olhada nisso: [Comparação de Strings em Python - eXcript](http://excript.com/python/comparacao-de-string-python.html)"
      ]
    },
    {
      "cell_type": "markdown",
      "metadata": {
        "id": "M7lBPYklZCXA"
      },
      "source": [
        "4) Faça um programa que solicite a entrada de dois nomes e imprima uma mensagem informando se eles são iguais ou não.\n",
        "\n",
        "\n",
        "> ##### Dica: cuidado com o int no `input()`"
      ]
    },
    {
      "cell_type": "code",
      "execution_count": 3,
      "metadata": {
        "id": "mv7yneoSZCXA",
        "outputId": "c4aa91b5-f313-41b6-9bf0-0e6c5708dc09",
        "colab": {
          "base_uri": "https://localhost:8080/"
        }
      },
      "outputs": [
        {
          "output_type": "stream",
          "name": "stdout",
          "text": [
            "Informe o primeiro nome: Maria\n",
            "Informe o segundo nome: Julia\n",
            "\n",
            " Nomes diferentes\n"
          ]
        }
      ],
      "source": [
        "primeiroNome = input('Informe o primeiro nome: ')\n",
        "segundoNome = input('Informe o segundo nome: ')\n",
        "\n",
        "if primeiroNome == segundoNome:\n",
        "  print('Nomes iguais')\n",
        "else: \n",
        "  print('\\n Nomes diferentes')"
      ]
    },
    {
      "cell_type": "markdown",
      "metadata": {
        "id": "L4jY1SABZCXA"
      },
      "source": [
        "---\n",
        "\n",
        "## Quais são as outras formas de praticar esses conceitos?\n",
        "\n",
        "<img src=\"https://media.giphy.com/media/LqZZp4y9ANZIcQzuXC/giphy.gif\" align=\"left\">"
      ]
    },
    {
      "cell_type": "code",
      "execution_count": null,
      "metadata": {
        "id": "AK43yJYRZCXB"
      },
      "outputs": [],
      "source": [
        "<Adicionar atividade de sua preferência para aplicação dos conceitos>"
      ]
    }
  ],
  "metadata": {
    "kernelspec": {
      "display_name": "Python 3",
      "language": "python",
      "name": "python3"
    },
    "language_info": {
      "codemirror_mode": {
        "name": "ipython",
        "version": 3
      },
      "file_extension": ".py",
      "mimetype": "text/x-python",
      "name": "python",
      "nbconvert_exporter": "python",
      "pygments_lexer": "ipython3",
      "version": "3.8.5"
    },
    "colab": {
      "provenance": []
    }
  },
  "nbformat": 4,
  "nbformat_minor": 0
}